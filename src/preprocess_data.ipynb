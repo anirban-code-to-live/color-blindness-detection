{
 "cells": [
  {
   "cell_type": "code",
   "execution_count": 24,
   "metadata": {
    "collapsed": true
   },
   "outputs": [],
   "source": [
    "import numpy as np\n",
    "import pickle\n",
    "from bitarray import bitarray"
   ]
  },
  {
   "cell_type": "code",
   "execution_count": 2,
   "metadata": {
    "collapsed": true
   },
   "outputs": [],
   "source": [
    "bwt_data = np.loadtxt('../data/chrX_last_col.txt', dtype=str)"
   ]
  },
  {
   "cell_type": "code",
   "execution_count": 3,
   "metadata": {},
   "outputs": [
    {
     "name": "stdout",
     "output_type": "stream",
     "text": [
      "['CAAAAAAAAAAAACAATAAAAAATAACAAACAACCACAAAAAAAAGATACAATACAAAAACAAAAAAAAACAAAAAAAAATAAACAAAAAAAACCAAAAA'\n",
      " 'ACAAAAACTAAAAAAAAATAAAAAAAAAAAAACAACAAAAAAATGAAAAAAAAAACAAAAACAAAAAAAAAAAAAAAAAAATATAAACAAAAAAAAAAAA'\n",
      " 'AAAAAAAAAAAATAAAAAACAAAAAAAAAAAAAAAAAAACAAAAACCAAAAAAAAAAAACCAAAACCAACAAGAAAAAACAAAAAAAAAAAAACAAAAAA'\n",
      " ...\n",
      " 'TTTTTTTCCTTTTCTTTTTTTTTTTTATTTTTTCTTTTTTTTTCTTTTTGTTTTTTTTTCACTGTTTTTTTTTTTTGGTTTTCTTTTTTTTCTTTTGTTT'\n",
      " 'TTTTGTTTTATACTTATCTTTTCTTTTTTTTTTTTTTTTGTTTTTTTTTTTTTTCATTTTTGTTTTTATCACAGTTTTACTCTTTTTTTTTTTCTTTTTT'\n",
      " 'ATTTGTTTCTTTTTTTTTTTTTTTTTTTCTTTTTTTTTTCTTGTTTTATTTTGTGTTTCGT']\n"
     ]
    }
   ],
   "source": [
    "print(bwt_data)"
   ]
  },
  {
   "cell_type": "code",
   "execution_count": 4,
   "metadata": {},
   "outputs": [
    {
     "name": "stdout",
     "output_type": "stream",
     "text": [
      "1511006\n"
     ]
    }
   ],
   "source": [
    "print(len(bwt_data))"
   ]
  },
  {
   "cell_type": "code",
   "execution_count": 5,
   "metadata": {},
   "outputs": [
    {
     "name": "stdout",
     "output_type": "stream",
     "text": [
      "[45648952, 29813353, 45772424, 29865831, 1, 0, 0]\n",
      "{'A': 45648952, 'C': 29813353, '$': 1, 'G': 29865831, 'N': 0, 'U': 0, 'T': 45772424}\n"
     ]
    }
   ],
   "source": [
    "first_col_dict = {\"A\": 0, \"G\": 0, \"C\": 0, \"T\": 0, \"$\": 0, \"N\": 0, \"U\": 0}\n",
    "counts = [0, 0, 0, 0, 0, 0, 0]\n",
    "for line in bwt_data:\n",
    "    for token in line:\n",
    "        if token == \"A\":\n",
    "            counts[0] += 1\n",
    "        elif token == \"C\":\n",
    "            counts[1] += 1\n",
    "        elif token == \"T\":\n",
    "            counts[2] += 1\n",
    "        elif token == \"G\":\n",
    "            counts[3] += 1\n",
    "        elif token == \"$\":\n",
    "            counts[4] += 1\n",
    "        elif token == \"N\":\n",
    "            counts[5] += 1\n",
    "        else:\n",
    "            counts[6] += 1\n",
    "\n",
    "first_col_dict[\"A\"] = counts[0]\n",
    "first_col_dict[\"C\"] = counts[1]\n",
    "first_col_dict[\"T\"] = counts[2]\n",
    "first_col_dict[\"G\"] = counts[3]\n",
    "first_col_dict[\"$\"] = counts[4]\n",
    "first_col_dict[\"N\"] = counts[5]\n",
    "first_col_dict[\"U\"] = counts[6]\n",
    "print(counts)\n",
    "print(first_col_dict)"
   ]
  },
  {
   "cell_type": "code",
   "execution_count": 6,
   "metadata": {},
   "outputs": [
    {
     "name": "stdout",
     "output_type": "stream",
     "text": [
      "151100561\n"
     ]
    }
   ],
   "source": [
    "reference_read = np.loadtxt(\"../data/chrX_map.txt\", dtype=str)\n",
    "print(len(reference_read))"
   ]
  },
  {
   "cell_type": "code",
   "execution_count": 8,
   "metadata": {},
   "outputs": [],
   "source": [
    "ref_sequence = np.loadtxt(\"../data/chrX.fa\", dtype=str)"
   ]
  },
  {
   "cell_type": "code",
   "execution_count": 9,
   "metadata": {},
   "outputs": [
    {
     "name": "stdout",
     "output_type": "stream",
     "text": [
      "1511007\n"
     ]
    }
   ],
   "source": [
    "print(len(ref_sequence))"
   ]
  },
  {
   "cell_type": "code",
   "execution_count": 14,
   "metadata": {
    "collapsed": true
   },
   "outputs": [],
   "source": [
    "merged_sequence = ''.join(ref_sequence[1:])"
   ]
  },
  {
   "cell_type": "code",
   "execution_count": 15,
   "metadata": {},
   "outputs": [
    {
     "name": "stdout",
     "output_type": "stream",
     "text": [
      "151100560\n"
     ]
    }
   ],
   "source": [
    "print(len(merged_sequence))"
   ]
  },
  {
   "cell_type": "code",
   "execution_count": 16,
   "metadata": {},
   "outputs": [
    {
     "name": "stdout",
     "output_type": "stream",
     "text": [
      "CTAACCCTAACCCTAACCCTAACCCTAACCCTAACCCTCTGAAAGTGGACCTATCAGCAGGATGTGGGTGGGAGCAGATTAGAGAATAAAAGCAGACTGC\n"
     ]
    }
   ],
   "source": [
    "print(merged_sequence[0:100])"
   ]
  },
  {
   "cell_type": "code",
   "execution_count": 19,
   "metadata": {},
   "outputs": [
    {
     "name": "stdout",
     "output_type": "stream",
     "text": [
      "151100561\n"
     ]
    }
   ],
   "source": [
    "bwt_full = ''.join(bwt_data)\n",
    "print(len(bwt_full))"
   ]
  },
  {
   "cell_type": "code",
   "execution_count": 28,
   "metadata": {},
   "outputs": [
    {
     "name": "stdout",
     "output_type": "stream",
     "text": [
      "151100561\n"
     ]
    }
   ],
   "source": [
    "bit_arr_length = len(bwt_full)\n",
    "print(bit_arr_length)"
   ]
  },
  {
   "cell_type": "code",
   "execution_count": 29,
   "metadata": {},
   "outputs": [],
   "source": [
    "G_bit_arr = bitarray(bit_arr_length)\n",
    "A_bit_arr = bitarray(bit_arr_length)\n",
    "C_bit_arr = bitarray(bit_arr_length)\n",
    "T_bit_arr = bitarray(bit_arr_length)"
   ]
  },
  {
   "cell_type": "code",
   "execution_count": 30,
   "metadata": {
    "collapsed": true
   },
   "outputs": [],
   "source": [
    "G_bit_arr.setall(False)\n",
    "A_bit_arr.setall(False)\n",
    "C_bit_arr.setall(False)\n",
    "T_bit_arr.setall(False)"
   ]
  },
  {
   "cell_type": "code",
   "execution_count": 31,
   "metadata": {},
   "outputs": [
    {
     "name": "stdout",
     "output_type": "stream",
     "text": [
      "No match\n"
     ]
    }
   ],
   "source": [
    "for i in range(len(bwt_full)):\n",
    "    token = bwt_full[i]\n",
    "    if token == \"A\":\n",
    "        A_bit_arr[i] = True\n",
    "    elif token == \"C\":\n",
    "        C_bit_arr[i] = True\n",
    "    elif token == \"T\":\n",
    "        T_bit_arr[i] = True\n",
    "    elif token == \"G\":\n",
    "        G_bit_arr[i] = True\n",
    "    else:\n",
    "        print('No match')"
   ]
  },
  {
   "cell_type": "code",
   "execution_count": 32,
   "metadata": {},
   "outputs": [
    {
     "name": "stdout",
     "output_type": "stream",
     "text": [
      "1511006\n"
     ]
    }
   ],
   "source": [
    "delta = 100\n",
    "count_arr_length = bit_arr_length/delta + 1\n",
    "print(count_arr_length)"
   ]
  },
  {
   "cell_type": "code",
   "execution_count": 72,
   "metadata": {
    "collapsed": true
   },
   "outputs": [],
   "source": [
    "G_count_arr = []\n",
    "A_count_arr = []\n",
    "C_count_arr = []\n",
    "T_count_arr = []"
   ]
  },
  {
   "cell_type": "code",
   "execution_count": 73,
   "metadata": {},
   "outputs": [
    {
     "name": "stdout",
     "output_type": "stream",
     "text": [
      "No match\n"
     ]
    }
   ],
   "source": [
    "g_count = 0\n",
    "c_count = 0\n",
    "a_count = 0\n",
    "t_count = 0\n",
    "for i in range(len(bwt_full)):\n",
    "    token = bwt_full[i]\n",
    "    if token == \"A\":\n",
    "        a_count += 1\n",
    "    elif token == \"C\":\n",
    "        c_count += 1\n",
    "    elif token == \"T\":\n",
    "        t_count += 1\n",
    "    elif token == \"G\":\n",
    "        g_count += 1\n",
    "    else:\n",
    "        print('No match')\n",
    "        \n",
    "    if i % delta == 0:\n",
    "        G_count_arr.append(g_count)\n",
    "        A_count_arr.append(a_count)\n",
    "        T_count_arr.append(t_count)\n",
    "        C_count_arr.append(c_count)"
   ]
  },
  {
   "cell_type": "code",
   "execution_count": 74,
   "metadata": {
    "collapsed": true
   },
   "outputs": [],
   "source": [
    "g_bit_arr_filename = '../processed_data/g_bit_arr.pkl'\n",
    "c_bit_arr_filename = '../processed_data/c_bit_arr.pkl'\n",
    "a_bit_arr_filename = '../processed_data/a_bit_arr.pkl'\n",
    "t_bit_arr_filename = '../processed_data/t_bit_arr.pkl'\n",
    "with open(g_bit_arr_filename, 'wb') as g:\n",
    "    pickle.dump(G_bit_arr, g)\n",
    "with open(c_bit_arr_filename, 'wb') as c:\n",
    "    pickle.dump(C_bit_arr, c)\n",
    "with open(a_bit_arr_filename, 'wb') as a:\n",
    "    pickle.dump(A_bit_arr, a)\n",
    "with open(t_bit_arr_filename, 'wb') as t:\n",
    "    pickle.dump(T_bit_arr, t)"
   ]
  },
  {
   "cell_type": "code",
   "execution_count": 75,
   "metadata": {
    "collapsed": true
   },
   "outputs": [],
   "source": [
    "g_count_arr_filename = '../processed_data/g_count_arr.pkl'\n",
    "c_count_arr_filename = '../processed_data/c_count_arr.pkl'\n",
    "a_count_arr_filename = '../processed_data/a_count_arr.pkl'\n",
    "t_count_arr_filename = '../processed_data/t_count_arr.pkl'\n",
    "with open(g_count_arr_filename, 'wb') as g1:\n",
    "    pickle.dump(G_count_arr, g1)\n",
    "with open(c_count_arr_filename, 'wb') as c1:\n",
    "    pickle.dump(C_count_arr, c1)\n",
    "with open(a_count_arr_filename, 'wb') as a1:\n",
    "    pickle.dump(A_count_arr, a1)\n",
    "with open(t_count_arr_filename, 'wb') as t1:\n",
    "    pickle.dump(T_count_arr, t1)"
   ]
  },
  {
   "cell_type": "code",
   "execution_count": 76,
   "metadata": {},
   "outputs": [
    {
     "name": "stdout",
     "output_type": "stream",
     "text": [
      "1511006\n",
      "1511006\n",
      "1511006\n",
      "1511006\n"
     ]
    }
   ],
   "source": [
    "print(len(G_count_arr))\n",
    "print(len(A_count_arr))\n",
    "print(len(C_count_arr))\n",
    "print(len(T_count_arr))"
   ]
  },
  {
   "cell_type": "code",
   "execution_count": 105,
   "metadata": {},
   "outputs": [
    {
     "name": "stdout",
     "output_type": "stream",
     "text": [
      "101\n"
     ]
    }
   ],
   "source": [
    "test_read = 'GAGGACAGCACCCAGTCCAGCATCTTCACCTACACCAACAGCAACTCCACCAGAGGTGAGCCAGCAGGCCCGTGGAGGCTGGGTGGCTGCACTGGGGGCCA'\n",
    "print(len(test_read))"
   ]
  },
  {
   "cell_type": "code",
   "execution_count": 106,
   "metadata": {
    "collapsed": true
   },
   "outputs": [],
   "source": [
    "def rank_query(token, index):\n",
    "    if index == 0:\n",
    "        return 0\n",
    "    rank = 0\n",
    "    if(token == 'G'):\n",
    "        while (index - 1) % delta != 0:\n",
    "            index -= 1\n",
    "            if G_bit_arr[index]:\n",
    "                rank += 1\n",
    "        rank += G_count_arr[(index-1) / delta]\n",
    "        return rank\n",
    "    \n",
    "    elif(token == 'A'):\n",
    "        while (index - 1) % delta != 0:\n",
    "            index -= 1\n",
    "            if A_bit_arr[index]:\n",
    "                rank += 1\n",
    "        rank += A_count_arr[(index-1) / delta]\n",
    "        return rank\n",
    "    \n",
    "    elif(token == 'C'):\n",
    "        while (index - 1) % delta != 0:\n",
    "            index -= 1\n",
    "            if C_bit_arr[index]:\n",
    "                rank += 1\n",
    "        rank += C_count_arr[(index-1) / delta]\n",
    "        return rank\n",
    "                \n",
    "    elif(token == 'T'):\n",
    "        while (index - 1) % delta != 0:\n",
    "            index -= 1\n",
    "            if T_bit_arr[index]:\n",
    "                rank += 1\n",
    "        rank += T_count_arr[(index-1) / delta]\n",
    "        return rank\n",
    "                \n",
    "    else:\n",
    "        print(token)\n",
    "        print(\"Token mismatch!\")"
   ]
  },
  {
   "cell_type": "code",
   "execution_count": 107,
   "metadata": {},
   "outputs": [
    {
     "name": "stdout",
     "output_type": "stream",
     "text": [
      "A\n",
      "0\n",
      "45648951\n"
     ]
    }
   ],
   "source": [
    "first_token = test_read[-1]\n",
    "print(first_token)\n",
    "a_count = first_col_dict['A']\n",
    "g_count = first_col_dict['G']\n",
    "c_count = first_col_dict['C']\n",
    "t_count = first_col_dict['T']\n",
    "if first_token == 'A':\n",
    "    band_start_index = 0\n",
    "    band_end_index = a_count - 1\n",
    "elif first_token == 'C':\n",
    "    band_start_index = a_count\n",
    "    band_end_index = a_count + c_count - 1\n",
    "elif first_token == 'G':\n",
    "    band_start_index = a_count + c_count\n",
    "    band_end_index = a_count + c_count + g_count - 1\n",
    "elif first_token == 'T':\n",
    "    band_start_index = a_count + c_count + g_count\n",
    "    band_end_index = a_count + c_count + g_count + t_count - 1\n",
    "\n",
    "print(band_start_index)\n",
    "print(band_end_index)"
   ]
  },
  {
   "cell_type": "code",
   "execution_count": 108,
   "metadata": {},
   "outputs": [
    {
     "name": "stdout",
     "output_type": "stream",
     "text": [
      "(0, 45648951)\n",
      "(45648952, 75462304)\n",
      "(75462305, 105328135)\n",
      "(105328136, 151100559)\n"
     ]
    }
   ],
   "source": [
    "band_start_index_a = 0\n",
    "band_end_index_a = a_count - 1\n",
    "band_start_index_c = a_count\n",
    "band_end_index_c = a_count + c_count - 1\n",
    "band_start_index_g = a_count + c_count\n",
    "band_end_index_g = a_count + c_count + g_count - 1\n",
    "band_start_index_t = a_count + c_count + g_count\n",
    "band_end_index_t = a_count + c_count + g_count + t_count - 1\n",
    "\n",
    "print(band_start_index_a, band_end_index_a)\n",
    "print(band_start_index_c, band_end_index_c)\n",
    "print(band_start_index_g, band_end_index_g)\n",
    "print(band_start_index_t, band_end_index_t)"
   ]
  },
  {
   "cell_type": "code",
   "execution_count": 109,
   "metadata": {
    "collapsed": true
   },
   "outputs": [],
   "source": [
    "def get_band_index(token, rank):\n",
    "    if token == 'A':\n",
    "        return band_start_index_a + rank\n",
    "    elif token == 'C':\n",
    "        return band_start_index_c + rank\n",
    "    elif token == 'G':\n",
    "        return band_start_index_g + rank\n",
    "    elif token == 'T':\n",
    "        return band_start_index_t + rank\n",
    "    else:\n",
    "        print(\"No match for token!!\")"
   ]
  },
  {
   "cell_type": "code",
   "execution_count": 132,
   "metadata": {},
   "outputs": [
    {
     "name": "stdout",
     "output_type": "stream",
     "text": [
      "81213340\n",
      "81213343\n"
     ]
    }
   ],
   "source": [
    "for i in range(2, len(test_read)+1):\n",
    "    token = test_read[-1*i]\n",
    "    start_token_rank = rank_query(token, band_start_index)\n",
    "    end_token_rank = rank_query(token, band_end_index)\n",
    "    if start_token_rank == end_token_rank:\n",
    "        break;\n",
    "    band_start_index = get_band_index(token, start_token_rank)\n",
    "    band_end_index = get_band_index(token, end_token_rank)\n",
    "#     print(start_token_rank)\n",
    "#     print(end_token_rank)\n",
    "\n",
    "print(band_start_index)\n",
    "print(band_end_index)"
   ]
  },
  {
   "cell_type": "code",
   "execution_count": 133,
   "metadata": {},
   "outputs": [
    {
     "name": "stdout",
     "output_type": "stream",
     "text": [
      "149288223\n"
     ]
    }
   ],
   "source": [
    "print(reference_read[band_end_index-2])\n",
    "start_seq_index = reference_read[band_end_index-2]"
   ]
  },
  {
   "cell_type": "code",
   "execution_count": 134,
   "metadata": {},
   "outputs": [
    {
     "name": "stdout",
     "output_type": "stream",
     "text": [
      "GAGGACAGCACCCAGTCCAGCATCTTCACCTACACCAACAGCAACTCCACCAGAGGTGAGCCAGCAGGCCCGTGGAGGCTGGGTGGCTGCACTGGGGGCCA\n"
     ]
    }
   ],
   "source": [
    "read_from_seq = merged_sequence[int(start_seq_index):int(start_seq_index)+101]\n",
    "print(merged_sequence[int(start_seq_index):int(start_seq_index)+101])"
   ]
  },
  {
   "cell_type": "code",
   "execution_count": 136,
   "metadata": {},
   "outputs": [],
   "source": [
    "assert test_read == read_from_seq"
   ]
  },
  {
   "cell_type": "code",
   "execution_count": 138,
   "metadata": {},
   "outputs": [],
   "source": [
    "red_exon_1_start_index = 149249757\n",
    "red_exon_1_end_index = 149249868\n",
    "red_exon_2_start_index = 149256127\n",
    "red_exon_2_end_index = 149256423\n",
    "red_exon_3_start_index = 149258412\n",
    "red_exon_3_end_index = 149258580\n",
    "red_exon_4_start_index = 149260048\n",
    "red_exon_4_end_index = 149260213\n",
    "red_exon_5_start_index = 149261768\n",
    "red_exon_5_end_index = 149262007\n",
    "red_exon_6_start_index = 149264290\n",
    "red_exon_6_end_index = 149264400"
   ]
  },
  {
   "cell_type": "code",
   "execution_count": 139,
   "metadata": {
    "collapsed": true
   },
   "outputs": [],
   "source": [
    "green_exon_1_start_index = 149288166\n",
    "green_exon_1_end_index = 149288277\n",
    "green_exon_2_start_index = 149293258\n",
    "green_exon_2_end_index = 149293554\n",
    "green_exon_3_start_index = 149295542\n",
    "green_exon_3_end_index = 149295710\n",
    "green_exon_4_start_index = 149297178\n",
    "green_exon_4_end_index = 149297343\n",
    "green_exon_5_start_index = 149298898\n",
    "green_exon_5_end_index = 149299137\n",
    "green_exon_6_start_index = 149301420\n",
    "green_exon_6_end_index = 149301530"
   ]
  },
  {
   "cell_type": "code",
   "execution_count": 234,
   "metadata": {
    "collapsed": true
   },
   "outputs": [],
   "source": [
    "def is_matching_red(index, length):\n",
    "    if index >= red_exon_1_start_index and index <= red_exon_1_end_index:\n",
    "        return True, 0\n",
    "    elif index >= red_exon_2_start_index and index <= red_exon_2_end_index:\n",
    "        return True, 1\n",
    "    elif index >= red_exon_3_start_index and index <= red_exon_3_end_index:\n",
    "        return True, 2\n",
    "    elif index >= red_exon_4_start_index and index <= red_exon_4_end_index:\n",
    "        return True, 3\n",
    "    elif index >= red_exon_5_start_index and index <= red_exon_5_end_index:\n",
    "        return True, 4\n",
    "    elif index >= red_exon_6_start_index and index <= red_exon_6_end_index:\n",
    "        return True, 5\n",
    "    else:\n",
    "        return False, -1"
   ]
  },
  {
   "cell_type": "code",
   "execution_count": 235,
   "metadata": {
    "collapsed": true
   },
   "outputs": [],
   "source": [
    "def is_matching_green(index, length):\n",
    "    if index >= green_exon_1_start_index and index <= green_exon_1_end_index:\n",
    "        return True, 0\n",
    "    elif index >= green_exon_2_start_index and index <= green_exon_2_end_index:\n",
    "        return True, 1\n",
    "    elif index >= green_exon_3_start_index and index <= green_exon_3_end_index:\n",
    "        return True, 2\n",
    "    elif index >= green_exon_4_start_index and index <= green_exon_4_end_index:\n",
    "        return True, 3\n",
    "    elif index >= green_exon_5_start_index and index <= green_exon_5_end_index:\n",
    "        return True, 4\n",
    "    elif index >= green_exon_6_start_index and index <= green_exon_6_end_index:\n",
    "        return True, 5\n",
    "    else:\n",
    "        return False, -1"
   ]
  },
  {
   "cell_type": "code",
   "execution_count": 236,
   "metadata": {
    "collapsed": true
   },
   "outputs": [],
   "source": [
    "red_exon_match_count = [0, 0, 0, 0, 0, 0]\n",
    "green_exon_match_count = [0, 0, 0, 0, 0, 0]"
   ]
  },
  {
   "cell_type": "code",
   "execution_count": 143,
   "metadata": {
    "collapsed": true
   },
   "outputs": [],
   "source": [
    "all_reads = np.loadtxt('../data/reads', dtype=str)"
   ]
  },
  {
   "cell_type": "code",
   "execution_count": 144,
   "metadata": {},
   "outputs": [
    {
     "name": "stdout",
     "output_type": "stream",
     "text": [
      "3066720\n"
     ]
    }
   ],
   "source": [
    "print(len(all_reads))"
   ]
  },
  {
   "cell_type": "code",
   "execution_count": 145,
   "metadata": {},
   "outputs": [
    {
     "name": "stdout",
     "output_type": "stream",
     "text": [
      "101\n"
     ]
    }
   ],
   "source": [
    "print(len(all_reads[0]))"
   ]
  },
  {
   "cell_type": "code",
   "execution_count": 146,
   "metadata": {
    "collapsed": true
   },
   "outputs": [],
   "source": [
    "max_length_read = max(len(read) for read in all_reads)"
   ]
  },
  {
   "cell_type": "code",
   "execution_count": 147,
   "metadata": {},
   "outputs": [
    {
     "name": "stdout",
     "output_type": "stream",
     "text": [
      "101\n"
     ]
    }
   ],
   "source": [
    "print(max_length_read)"
   ]
  },
  {
   "cell_type": "code",
   "execution_count": 148,
   "metadata": {},
   "outputs": [
    {
     "name": "stdout",
     "output_type": "stream",
     "text": [
      "13\n"
     ]
    }
   ],
   "source": [
    "min_length_read = min(len(read) for read in all_reads)\n",
    "print(min_length_read)"
   ]
  },
  {
   "cell_type": "code",
   "execution_count": 149,
   "metadata": {
    "collapsed": true
   },
   "outputs": [],
   "source": [
    "count_read_containing_N = len([read for read in all_reads if 'N' in read])"
   ]
  },
  {
   "cell_type": "code",
   "execution_count": 150,
   "metadata": {},
   "outputs": [
    {
     "name": "stdout",
     "output_type": "stream",
     "text": [
      "2453\n"
     ]
    }
   ],
   "source": [
    "print(count_read_containing_N)"
   ]
  },
  {
   "cell_type": "code",
   "execution_count": 151,
   "metadata": {
    "collapsed": true
   },
   "outputs": [],
   "source": [
    "all_reads_removing_N = []\n",
    "for read in all_reads:\n",
    "    if 'N' in read:\n",
    "        new_read = read.replace('N', 'A')\n",
    "        all_reads_removing_N.append(new_read)\n",
    "    else:\n",
    "        all_reads_removing_N.append(read)"
   ]
  },
  {
   "cell_type": "code",
   "execution_count": 152,
   "metadata": {},
   "outputs": [
    {
     "name": "stdout",
     "output_type": "stream",
     "text": [
      "0\n"
     ]
    }
   ],
   "source": [
    "new_count_read_containing_N = len([read for read in all_reads_removing_N if 'N' in read])\n",
    "print(new_count_read_containing_N)"
   ]
  },
  {
   "cell_type": "code",
   "execution_count": 155,
   "metadata": {},
   "outputs": [],
   "source": [
    "with open('../processed_data/processed_reads.pkl', 'wb') as f:\n",
    "    pickle.dump(all_reads_removing_N, f)"
   ]
  },
  {
   "cell_type": "code",
   "execution_count": 156,
   "metadata": {},
   "outputs": [
    {
     "name": "stdout",
     "output_type": "stream",
     "text": [
      "dcba\n"
     ]
    }
   ],
   "source": [
    "temp = 'abcd'\n",
    "reverse_temp = temp[::-1]\n",
    "print(reverse_temp)"
   ]
  },
  {
   "cell_type": "code",
   "execution_count": 157,
   "metadata": {
    "collapsed": true
   },
   "outputs": [],
   "source": [
    "all_reads_reverse_compliment = []\n",
    "for read in all_reads_removing_N:\n",
    "    reverse_read = read[::-1]\n",
    "    temp_M = reverse_read.replace('G', 'M')\n",
    "    temp_G = temp_M.replace('C', 'G')\n",
    "    temp_C = temp_G.replace('M', 'C')\n",
    "    temp_N = temp_C.replace('A', 'N')\n",
    "    temp_T = temp_N.replace('T', 'A')\n",
    "    temp_A = temp_T.replace('N', 'T')\n",
    "    all_reads_reverse_compliment.append(temp_A)"
   ]
  },
  {
   "cell_type": "code",
   "execution_count": 158,
   "metadata": {},
   "outputs": [
    {
     "name": "stdout",
     "output_type": "stream",
     "text": [
      "CTTTTGTTTTTTTTTTTTTTTTTTTATAAAATATTTGGGTTTTATAAAAAAAAACACAAAAAAAAAAAAAAAAAAAAAAAACTGAACCTATCGGATGACGT\n",
      "ACGTCATCCGATAGGTTCAGTTTTTTTTTTTTTTTTTTTTTTTTGTGTTTTTTTTTATAAAACCCAAATATTTTATAAAAAAAAAAAAAAAAAAACAAAAG\n"
     ]
    }
   ],
   "source": [
    "print(all_reads_removing_N[0])\n",
    "print(all_reads_reverse_compliment[0])"
   ]
  },
  {
   "cell_type": "code",
   "execution_count": 159,
   "metadata": {
    "collapsed": true
   },
   "outputs": [],
   "source": [
    "with open('../processed_data/processed_reverse_compliment_reads.pkl', 'wb') as f:\n",
    "    pickle.dump(all_reads_reverse_compliment, f)"
   ]
  },
  {
   "cell_type": "code",
   "execution_count": 237,
   "metadata": {
    "collapsed": true
   },
   "outputs": [],
   "source": [
    "def get_match_indices(read):\n",
    "    first_token = read[-1]\n",
    "    if first_token == 'A':\n",
    "        band_start_index = 0\n",
    "        band_end_index = a_count - 1\n",
    "    elif first_token == 'C':\n",
    "        band_start_index = a_count\n",
    "        band_end_index = a_count + c_count - 1\n",
    "    elif first_token == 'G':\n",
    "        band_start_index = a_count + c_count\n",
    "        band_end_index = a_count + c_count + g_count - 1\n",
    "    elif first_token == 'T':\n",
    "        band_start_index = a_count + c_count + g_count\n",
    "        band_end_index = a_count + c_count + g_count + t_count - 1\n",
    "    \n",
    "    for i in range(2, len(read)+1):\n",
    "        token = read[-1*i]\n",
    "        start_token_rank = rank_query(token, band_start_index)\n",
    "        end_token_rank = rank_query(token, band_end_index)\n",
    "        if start_token_rank == end_token_rank:\n",
    "            return None, None;\n",
    "        band_start_index = get_band_index(token, start_token_rank)\n",
    "        band_end_index = get_band_index(token, end_token_rank)\n",
    "    return band_start_index, band_end_index"
   ]
  },
  {
   "cell_type": "code",
   "execution_count": 238,
   "metadata": {},
   "outputs": [],
   "source": [
    "def count_exon_matches(start_index, end_index, read_length):\n",
    "    ref_seq_index_matches = []\n",
    "    for i in range(end_index - start_index):\n",
    "        ref_seq_index_matches.append(int(reference_read[start_index+i]))\n",
    "    for ref_seq_index in ref_seq_index_matches:\n",
    "        is_red_match, red_exon_number = is_matching_red(ref_seq_index, read_length)\n",
    "        is_green_match, green_exon_number = is_matching_green(ref_seq_index, read_length)\n",
    "        if is_red_match and is_green_match:\n",
    "#             print('In both')\n",
    "            red_exon_match_count[red_exon_number] += 0.5\n",
    "            green_exon_match_count[green_exon_number] += 0.5\n",
    "        elif is_red_match:\n",
    "#             print('in red')\n",
    "            red_exon_match_count[red_exon_number] += 1\n",
    "        elif is_green_match:\n",
    "#             print('in green')\n",
    "            green_exon_match_count[green_exon_number] += 1\n",
    "        else:\n",
    "            assert True == True\n",
    "#             print('No matching exons!!')"
   ]
  },
  {
   "cell_type": "code",
   "execution_count": null,
   "metadata": {},
   "outputs": [],
   "source": [
    "for read in all_reads_removing_N:\n",
    "    band_first_match_index, band_last_match_index = get_match_indices(read)\n",
    "    if band_first_match_index is not None and band_last_match_index is not None:\n",
    "#         print(band_first_match_index)\n",
    "#         print(band_last_match_index)\n",
    "        count_exon_matches(band_first_match_index, band_last_match_index, len(read))"
   ]
  },
  {
   "cell_type": "code",
   "execution_count": null,
   "metadata": {},
   "outputs": [],
   "source": [
    "print(red_exon_match_count)\n",
    "print(green_exon_match_count)"
   ]
  },
  {
   "cell_type": "code",
   "execution_count": null,
   "metadata": {
    "collapsed": true
   },
   "outputs": [],
   "source": [
    "for read in all_reads_reverse_compliment:\n",
    "    band_first_match_index, band_last_match_index = get_match_indices(read)\n",
    "    if band_first_match_index is not None and band_last_match_index is not None:\n",
    "        count_exon_matches(band_first_match_index, band_last_match_index, len(read))"
   ]
  },
  {
   "cell_type": "code",
   "execution_count": null,
   "metadata": {
    "collapsed": true
   },
   "outputs": [],
   "source": [
    "print(red_exon_match_count)\n",
    "print(green_exon_match_count)"
   ]
  },
  {
   "cell_type": "code",
   "execution_count": null,
   "metadata": {
    "collapsed": true
   },
   "outputs": [],
   "source": []
  }
 ],
 "metadata": {
  "kernelspec": {
   "display_name": "Python 2",
   "language": "python",
   "name": "python2"
  },
  "language_info": {
   "codemirror_mode": {
    "name": "ipython",
    "version": 2
   },
   "file_extension": ".py",
   "mimetype": "text/x-python",
   "name": "python",
   "nbconvert_exporter": "python",
   "pygments_lexer": "ipython2",
   "version": "2.7.13"
  }
 },
 "nbformat": 4,
 "nbformat_minor": 2
}
