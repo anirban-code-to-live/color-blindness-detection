{
 "cells": [
  {
   "cell_type": "code",
   "execution_count": 24,
   "metadata": {
    "collapsed": true
   },
   "outputs": [],
   "source": [
    "import numpy as np\n",
    "import pickle\n",
    "from bitarray import bitarray"
   ]
  },
  {
   "cell_type": "code",
   "execution_count": 2,
   "metadata": {
    "collapsed": true
   },
   "outputs": [],
   "source": [
    "bwt_data = np.loadtxt('../data/chrX_last_col.txt', dtype=str)"
   ]
  },
  {
   "cell_type": "code",
   "execution_count": 3,
   "metadata": {},
   "outputs": [
    {
     "name": "stdout",
     "output_type": "stream",
     "text": [
      "['CAAAAAAAAAAAACAATAAAAAATAACAAACAACCACAAAAAAAAGATACAATACAAAAACAAAAAAAAACAAAAAAAAATAAACAAAAAAAACCAAAAA'\n",
      " 'ACAAAAACTAAAAAAAAATAAAAAAAAAAAAACAACAAAAAAATGAAAAAAAAAACAAAAACAAAAAAAAAAAAAAAAAAATATAAACAAAAAAAAAAAA'\n",
      " 'AAAAAAAAAAAATAAAAAACAAAAAAAAAAAAAAAAAAACAAAAACCAAAAAAAAAAAACCAAAACCAACAAGAAAAAACAAAAAAAAAAAAACAAAAAA'\n",
      " ...\n",
      " 'TTTTTTTCCTTTTCTTTTTTTTTTTTATTTTTTCTTTTTTTTTCTTTTTGTTTTTTTTTCACTGTTTTTTTTTTTTGGTTTTCTTTTTTTTCTTTTGTTT'\n",
      " 'TTTTGTTTTATACTTATCTTTTCTTTTTTTTTTTTTTTTGTTTTTTTTTTTTTTCATTTTTGTTTTTATCACAGTTTTACTCTTTTTTTTTTTCTTTTTT'\n",
      " 'ATTTGTTTCTTTTTTTTTTTTTTTTTTTCTTTTTTTTTTCTTGTTTTATTTTGTGTTTCGT']\n"
     ]
    }
   ],
   "source": [
    "print(bwt_data)"
   ]
  },
  {
   "cell_type": "code",
   "execution_count": 4,
   "metadata": {},
   "outputs": [
    {
     "name": "stdout",
     "output_type": "stream",
     "text": [
      "1511006\n"
     ]
    }
   ],
   "source": [
    "print(len(bwt_data))"
   ]
  },
  {
   "cell_type": "code",
   "execution_count": 5,
   "metadata": {},
   "outputs": [
    {
     "name": "stdout",
     "output_type": "stream",
     "text": [
      "[45648952, 29813353, 45772424, 29865831, 1, 0, 0]\n",
      "{'A': 45648952, 'C': 29813353, '$': 1, 'G': 29865831, 'N': 0, 'U': 0, 'T': 45772424}\n"
     ]
    }
   ],
   "source": [
    "first_col_dict = {\"A\": 0, \"G\": 0, \"C\": 0, \"T\": 0, \"$\": 0, \"N\": 0, \"U\": 0}\n",
    "counts = [0, 0, 0, 0, 0, 0, 0]\n",
    "for line in bwt_data:\n",
    "    for token in line:\n",
    "        if token == \"A\":\n",
    "            counts[0] += 1\n",
    "        elif token == \"C\":\n",
    "            counts[1] += 1\n",
    "        elif token == \"T\":\n",
    "            counts[2] += 1\n",
    "        elif token == \"G\":\n",
    "            counts[3] += 1\n",
    "        elif token == \"$\":\n",
    "            counts[4] += 1\n",
    "        elif token == \"N\":\n",
    "            counts[5] += 1\n",
    "        else:\n",
    "            counts[6] += 1\n",
    "\n",
    "first_col_dict[\"A\"] = counts[0]\n",
    "first_col_dict[\"C\"] = counts[1]\n",
    "first_col_dict[\"T\"] = counts[2]\n",
    "first_col_dict[\"G\"] = counts[3]\n",
    "first_col_dict[\"$\"] = counts[4]\n",
    "first_col_dict[\"N\"] = counts[5]\n",
    "first_col_dict[\"U\"] = counts[6]\n",
    "print(counts)\n",
    "print(first_col_dict)"
   ]
  },
  {
   "cell_type": "code",
   "execution_count": 6,
   "metadata": {},
   "outputs": [
    {
     "name": "stdout",
     "output_type": "stream",
     "text": [
      "151100561\n"
     ]
    }
   ],
   "source": [
    "reference_read = np.loadtxt(\"../data/chrX_map.txt\", dtype=str)\n",
    "print(len(reference_read))"
   ]
  },
  {
   "cell_type": "code",
   "execution_count": 8,
   "metadata": {},
   "outputs": [],
   "source": [
    "ref_sequence = np.loadtxt(\"../data/chrX.fa\", dtype=str)"
   ]
  },
  {
   "cell_type": "code",
   "execution_count": 9,
   "metadata": {},
   "outputs": [
    {
     "name": "stdout",
     "output_type": "stream",
     "text": [
      "1511007\n"
     ]
    }
   ],
   "source": [
    "print(len(ref_sequence))"
   ]
  },
  {
   "cell_type": "code",
   "execution_count": 14,
   "metadata": {
    "collapsed": true
   },
   "outputs": [],
   "source": [
    "merged_sequence = ''.join(ref_sequence[1:])"
   ]
  },
  {
   "cell_type": "code",
   "execution_count": 15,
   "metadata": {},
   "outputs": [
    {
     "name": "stdout",
     "output_type": "stream",
     "text": [
      "151100560\n"
     ]
    }
   ],
   "source": [
    "print(len(merged_sequence))"
   ]
  },
  {
   "cell_type": "code",
   "execution_count": 16,
   "metadata": {},
   "outputs": [
    {
     "name": "stdout",
     "output_type": "stream",
     "text": [
      "CTAACCCTAACCCTAACCCTAACCCTAACCCTAACCCTCTGAAAGTGGACCTATCAGCAGGATGTGGGTGGGAGCAGATTAGAGAATAAAAGCAGACTGC\n"
     ]
    }
   ],
   "source": [
    "print(merged_sequence[0:100])"
   ]
  },
  {
   "cell_type": "code",
   "execution_count": 19,
   "metadata": {},
   "outputs": [
    {
     "name": "stdout",
     "output_type": "stream",
     "text": [
      "151100561\n"
     ]
    }
   ],
   "source": [
    "bwt_full = ''.join(bwt_data)\n",
    "print(len(bwt_full))"
   ]
  },
  {
   "cell_type": "code",
   "execution_count": 28,
   "metadata": {},
   "outputs": [
    {
     "name": "stdout",
     "output_type": "stream",
     "text": [
      "151100561\n"
     ]
    }
   ],
   "source": [
    "bit_arr_length = len(bwt_full)\n",
    "print(bit_arr_length)"
   ]
  },
  {
   "cell_type": "code",
   "execution_count": 29,
   "metadata": {},
   "outputs": [],
   "source": [
    "G_bit_arr = bitarray(bit_arr_length)\n",
    "A_bit_arr = bitarray(bit_arr_length)\n",
    "C_bit_arr = bitarray(bit_arr_length)\n",
    "T_bit_arr = bitarray(bit_arr_length)"
   ]
  },
  {
   "cell_type": "code",
   "execution_count": 30,
   "metadata": {
    "collapsed": true
   },
   "outputs": [],
   "source": [
    "G_bit_arr.setall(False)\n",
    "A_bit_arr.setall(False)\n",
    "C_bit_arr.setall(False)\n",
    "T_bit_arr.setall(False)"
   ]
  },
  {
   "cell_type": "code",
   "execution_count": 31,
   "metadata": {},
   "outputs": [
    {
     "name": "stdout",
     "output_type": "stream",
     "text": [
      "No match\n"
     ]
    }
   ],
   "source": [
    "for i in range(len(bwt_full)):\n",
    "    token = bwt_full[i]\n",
    "    if token == \"A\":\n",
    "        A_bit_arr[i] = True\n",
    "    elif token == \"C\":\n",
    "        C_bit_arr[i] = True\n",
    "    elif token == \"T\":\n",
    "        T_bit_arr[i] = True\n",
    "    elif token == \"G\":\n",
    "        G_bit_arr[i] = True\n",
    "    else:\n",
    "        print('No match')"
   ]
  },
  {
   "cell_type": "code",
   "execution_count": 32,
   "metadata": {},
   "outputs": [
    {
     "name": "stdout",
     "output_type": "stream",
     "text": [
      "1511006\n"
     ]
    }
   ],
   "source": [
    "delta = 100\n",
    "count_arr_length = bit_arr_length/delta + 1\n",
    "print(count_arr_length)"
   ]
  },
  {
   "cell_type": "code",
   "execution_count": 33,
   "metadata": {
    "collapsed": true
   },
   "outputs": [],
   "source": [
    "G_count_arr = []\n",
    "A_count_arr = []\n",
    "C_count_arr = []\n",
    "T_count_arr = []"
   ]
  },
  {
   "cell_type": "code",
   "execution_count": 34,
   "metadata": {},
   "outputs": [
    {
     "name": "stdout",
     "output_type": "stream",
     "text": [
      "No match\n"
     ]
    }
   ],
   "source": [
    "for i in range(len(bwt_full)):\n",
    "    g_count = 0\n",
    "    c_count = 0\n",
    "    a_count = 0\n",
    "    t_count = 0\n",
    "    token = bwt_full[i]\n",
    "    if token == \"A\":\n",
    "        a_count += 1\n",
    "    elif token == \"C\":\n",
    "        c_count += 1\n",
    "    elif token == \"T\":\n",
    "        t_count += 1\n",
    "    elif token == \"G\":\n",
    "        g_count += 1\n",
    "    else:\n",
    "        print('No match')\n",
    "        \n",
    "    if i % delta == 0:\n",
    "        G_count_arr.append(g_count)\n",
    "        A_count_arr.append(a_count)\n",
    "        T_count_arr.append(t_count)\n",
    "        C_count_arr.append(c_count)"
   ]
  },
  {
   "cell_type": "code",
   "execution_count": 36,
   "metadata": {
    "collapsed": true
   },
   "outputs": [],
   "source": [
    "g_bit_arr_filename = '../processed_data/g_bit_arr.pkl'\n",
    "c_bit_arr_filename = '../processed_data/c_bit_arr.pkl'\n",
    "a_bit_arr_filename = '../processed_data/a_bit_arr.pkl'\n",
    "t_bit_arr_filename = '../processed_data/t_bit_arr.pkl'\n",
    "with open(g_bit_arr_filename, 'wb') as g:\n",
    "    pickle.dump(G_bit_arr, g)\n",
    "with open(c_bit_arr_filename, 'wb') as c:\n",
    "    pickle.dump(C_bit_arr, c)\n",
    "with open(a_bit_arr_filename, 'wb') as a:\n",
    "    pickle.dump(A_bit_arr, a)\n",
    "with open(t_bit_arr_filename, 'wb') as t:\n",
    "    pickle.dump(T_bit_arr, t)"
   ]
  },
  {
   "cell_type": "code",
   "execution_count": 37,
   "metadata": {
    "collapsed": true
   },
   "outputs": [],
   "source": [
    "g_count_arr_filename = '../processed_data/g_count_arr.pkl'\n",
    "c_count_arr_filename = '../processed_data/c_count_arr.pkl'\n",
    "a_count_arr_filename = '../processed_data/a_count_arr.pkl'\n",
    "t_count_arr_filename = '../processed_data/t_count_arr.pkl'\n",
    "with open(g_count_arr_filename, 'wb') as g1:\n",
    "    pickle.dump(G_count_arr, g1)\n",
    "with open(c_count_arr_filename, 'wb') as c1:\n",
    "    pickle.dump(C_count_arr, c1)\n",
    "with open(a_count_arr_filename, 'wb') as a1:\n",
    "    pickle.dump(A_count_arr, a1)\n",
    "with open(t_count_arr_filename, 'wb') as t1:\n",
    "    pickle.dump(T_count_arr, t1)"
   ]
  },
  {
   "cell_type": "code",
   "execution_count": 38,
   "metadata": {},
   "outputs": [
    {
     "name": "stdout",
     "output_type": "stream",
     "text": [
      "1511006\n",
      "1511006\n",
      "1511006\n",
      "1511006\n"
     ]
    }
   ],
   "source": [
    "print(len(G_count_arr))\n",
    "print(len(A_count_arr))\n",
    "print(len(C_count_arr))\n",
    "print(len(T_count_arr))"
   ]
  },
  {
   "cell_type": "code",
   "execution_count": 41,
   "metadata": {},
   "outputs": [
    {
     "name": "stdout",
     "output_type": "stream",
     "text": [
      "101\n"
     ]
    }
   ],
   "source": [
    "test_read = 'GAGGACAGCACCCAGTCCAGCATCTTCACCTACACCAACAGCAACTCCACCAGAGGTGAGCCAGCAGGCCCGTGGAGGCTGGGTGGCTGCACTGGGGGCCA'\n",
    "print(len(test_read))"
   ]
  },
  {
   "cell_type": "code",
   "execution_count": 40,
   "metadata": {
    "collapsed": true
   },
   "outputs": [],
   "source": [
    "def rank_query(token, index):\n",
    "    if index == 0:\n",
    "        return 0\n",
    "    rank = 0\n",
    "    if(token == 'G'):\n",
    "        if (index-1) % delta == 0:\n",
    "            rank += G_count_arr[(index-1) % delta]\n",
    "        else:\n",
    "            index -= 1\n",
    "            if G_bit_arr[index]:\n",
    "                rank += 1\n",
    "    \n",
    "    elif(token == 'A'):\n",
    "        if (index-1) % delta == 0:\n",
    "            rank += A_count_arr[(index-1) % delta]\n",
    "        else:\n",
    "            index -= 1\n",
    "            if A_bit_arr[index]:\n",
    "                rank += 1\n",
    "    \n",
    "    elif(token == 'C'):\n",
    "        if (index-1) % delta == 0:\n",
    "            rank += C_count_arr[(index-1) % delta]\n",
    "        else:\n",
    "            index -= 1\n",
    "            if C_bit_arr[index]:\n",
    "                rank += 1\n",
    "                \n",
    "    elif(token == 'T'):\n",
    "        if (index-1) % delta == 0:\n",
    "            rank += T_count_arr[(index-1) % delta]\n",
    "        else:\n",
    "            index -= 1\n",
    "            if T_bit_arr[index]:\n",
    "                rank += 1\n",
    "                \n",
    "    else:\n",
    "        print(\"Token mismatch!\")"
   ]
  },
  {
   "cell_type": "code",
   "execution_count": 44,
   "metadata": {},
   "outputs": [
    {
     "name": "stdout",
     "output_type": "stream",
     "text": [
      "A\n",
      "0\n",
      "45648951\n"
     ]
    }
   ],
   "source": [
    "first_token = test_read[-1]\n",
    "print(first_token)\n",
    "a_count = first_col_dict['A']\n",
    "g_count = first_col_dict['G']\n",
    "c_count = first_col_dict['C']\n",
    "t_count = first_col_dict['T']\n",
    "if first_token == 'A':\n",
    "    band_start_index = 0\n",
    "    band_end_index = a_count - 1\n",
    "elif first_token == 'C':\n",
    "    band_start_index = a_count\n",
    "    band_end_index = a_count + c_count - 1\n",
    "elif first_token == 'G':\n",
    "    band_start_index = a_count + c_count\n",
    "    band_end_index = a_count + c_count + g_count - 1\n",
    "elif first_token == 'T':\n",
    "    band_start_index = a_count + c_count + g_count\n",
    "    band_end_index = a_count + c_count + g_count + t_count - 1\n",
    "\n",
    "print(band_start_index)\n",
    "print(band_end_index)"
   ]
  },
  {
   "cell_type": "code",
   "execution_count": 45,
   "metadata": {},
   "outputs": [
    {
     "name": "stdout",
     "output_type": "stream",
     "text": [
      "(0, 45648951)\n",
      "(45648952, 75462304)\n",
      "(75462305, 105328135)\n",
      "(105328136, 151100559)\n"
     ]
    }
   ],
   "source": [
    "band_start_index_a = 0\n",
    "band_end_index_a = a_count - 1\n",
    "band_start_index_c = a_count\n",
    "band_end_index_c = a_count + c_count - 1\n",
    "band_start_index_g = a_count + c_count\n",
    "band_end_index_g = a_count + c_count + g_count - 1\n",
    "band_start_index_t = a_count + c_count + g_count\n",
    "band_end_index_t = a_count + c_count + g_count + t_count - 1\n",
    "\n",
    "print(band_start_index_a, band_end_index_a)\n",
    "print(band_start_index_c, band_end_index_c)\n",
    "print(band_start_index_g, band_end_index_g)\n",
    "print(band_start_index_t, band_end_index_t)"
   ]
  },
  {
   "cell_type": "code",
   "execution_count": 46,
   "metadata": {
    "collapsed": true
   },
   "outputs": [],
   "source": [
    "def get_band_index(token, rank):\n",
    "    if token == 'A':\n",
    "        return band_start_index_a + rank\n",
    "    elif token == 'C':\n",
    "        return band_start_index_c + rank\n",
    "    elif token == 'G':\n",
    "        return band_start_index_g + rank\n",
    "    elif token == 'T':\n",
    "        return band_start_index_t + rank\n",
    "    else:\n",
    "        print(\"No match for token!!\")"
   ]
  },
  {
   "cell_type": "code",
   "execution_count": null,
   "metadata": {
    "collapsed": true
   },
   "outputs": [],
   "source": [
    "for i in range(2, len(test_read)+1):\n",
    "    token = test_read[-1*i]\n",
    "    start_token_rank = rank_query(band_start_index, token)\n",
    "    end_token_rank = rank_query(band_end_index, token)\n",
    "    band_start_index = get_band_index(token, start_token_rank)\n",
    "    band_end_index = get_band_index(token, end_token_rank)"
   ]
  }
 ],
 "metadata": {
  "kernelspec": {
   "display_name": "Python 2",
   "language": "python",
   "name": "python2"
  },
  "language_info": {
   "codemirror_mode": {
    "name": "ipython",
    "version": 2
   },
   "file_extension": ".py",
   "mimetype": "text/x-python",
   "name": "python",
   "nbconvert_exporter": "python",
   "pygments_lexer": "ipython2",
   "version": "2.7.13"
  }
 },
 "nbformat": 4,
 "nbformat_minor": 2
}
