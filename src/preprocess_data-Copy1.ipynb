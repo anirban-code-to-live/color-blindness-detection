{
 "cells": [
  {
   "cell_type": "code",
   "execution_count": 1,
   "metadata": {
    "collapsed": true
   },
   "outputs": [],
   "source": [
    "import numpy as np\n",
    "import pickle\n",
    "from bitarray import bitarray"
   ]
  },
  {
   "cell_type": "code",
   "execution_count": 2,
   "metadata": {
    "collapsed": true
   },
   "outputs": [],
   "source": [
    "def generate_first_column(bwt_data):\n",
    "    first_col_dict = {\"A\": 0, \"G\": 0, \"C\": 0, \"T\": 0, \"$\": 0, \"N\": 0, \"U\": 0}\n",
    "    counts = [0, 0, 0, 0, 0, 0, 0]\n",
    "    for line in bwt_data:\n",
    "        for token in line:\n",
    "            if token == \"A\":\n",
    "                counts[0] += 1\n",
    "            elif token == \"C\":\n",
    "                counts[1] += 1\n",
    "            elif token == \"T\":\n",
    "                counts[2] += 1\n",
    "            elif token == \"G\":\n",
    "                counts[3] += 1\n",
    "            elif token == \"$\":\n",
    "                counts[4] += 1\n",
    "            elif token == \"N\":\n",
    "                counts[5] += 1\n",
    "            else:\n",
    "                counts[6] += 1\n",
    "\n",
    "    first_col_dict[\"A\"] = counts[0]\n",
    "    first_col_dict[\"C\"] = counts[1]\n",
    "    first_col_dict[\"T\"] = counts[2]\n",
    "    first_col_dict[\"G\"] = counts[3]\n",
    "    first_col_dict[\"$\"] = counts[4]\n",
    "    first_col_dict[\"N\"] = counts[5]\n",
    "    first_col_dict[\"U\"] = counts[6]\n",
    "    print(counts)\n",
    "    print(first_col_dict)\n",
    "    return first_col_dict"
   ]
  },
  {
   "cell_type": "code",
   "execution_count": 3,
   "metadata": {
    "collapsed": true
   },
   "outputs": [],
   "source": [
    "def generate_binary_and_count_arrays(bwt_full, save=True):\n",
    "    bit_arr_length = len(bwt_full)\n",
    "    print(bit_arr_length)\n",
    "    G_bit_arr = bitarray(bit_arr_length)\n",
    "    A_bit_arr = bitarray(bit_arr_length)\n",
    "    C_bit_arr = bitarray(bit_arr_length)\n",
    "    T_bit_arr = bitarray(bit_arr_length)\n",
    "    \n",
    "    G_bit_arr.setall(False)\n",
    "    A_bit_arr.setall(False)\n",
    "    C_bit_arr.setall(False)\n",
    "    T_bit_arr.setall(False)\n",
    "    \n",
    "    delta = 100\n",
    "    count_arr_length = bit_arr_length/delta + 1\n",
    "    print(count_arr_length)\n",
    "    \n",
    "    G_count_arr = []\n",
    "    A_count_arr = []\n",
    "    C_count_arr = []\n",
    "    T_count_arr = []\n",
    "            \n",
    "    g_count = 0\n",
    "    c_count = 0\n",
    "    a_count = 0\n",
    "    t_count = 0\n",
    "    for i in range(len(bwt_full)):\n",
    "        token = bwt_full[i]\n",
    "        if token == \"A\":\n",
    "            A_bit_arr[i] = True\n",
    "            a_count += 1\n",
    "        elif token == \"C\":\n",
    "            C_bit_arr[i] = True\n",
    "            c_count += 1\n",
    "        elif token == \"T\":\n",
    "            T_bit_arr[i] = True\n",
    "            t_count += 1\n",
    "        elif token == \"G\":\n",
    "            G_bit_arr[i] = True\n",
    "            g_count += 1\n",
    "        else:\n",
    "            print('No match')\n",
    "\n",
    "        if i % delta == 0:\n",
    "            G_count_arr.append(g_count)\n",
    "            A_count_arr.append(a_count)\n",
    "            T_count_arr.append(t_count)\n",
    "            C_count_arr.append(c_count)\n",
    "            \n",
    "    if save == True:       \n",
    "        g_bit_arr_filename = '../processed_data/g_bit_arr.pkl'\n",
    "        c_bit_arr_filename = '../processed_data/c_bit_arr.pkl'\n",
    "        a_bit_arr_filename = '../processed_data/a_bit_arr.pkl'\n",
    "        t_bit_arr_filename = '../processed_data/t_bit_arr.pkl'\n",
    "        with open(g_bit_arr_filename, 'wb') as g:\n",
    "            pickle.dump(G_bit_arr, g)\n",
    "        with open(c_bit_arr_filename, 'wb') as c:\n",
    "            pickle.dump(C_bit_arr, c)\n",
    "        with open(a_bit_arr_filename, 'wb') as a:\n",
    "            pickle.dump(A_bit_arr, a)\n",
    "        with open(t_bit_arr_filename, 'wb') as t:\n",
    "            pickle.dump(T_bit_arr, t)\n",
    "\n",
    "        g_count_arr_filename = '../processed_data/g_count_arr.pkl'\n",
    "        c_count_arr_filename = '../processed_data/c_count_arr.pkl'\n",
    "        a_count_arr_filename = '../processed_data/a_count_arr.pkl'\n",
    "        t_count_arr_filename = '../processed_data/t_count_arr.pkl'\n",
    "        with open(g_count_arr_filename, 'wb') as g1:\n",
    "            pickle.dump(G_count_arr, g1)\n",
    "        with open(c_count_arr_filename, 'wb') as c1:\n",
    "            pickle.dump(C_count_arr, c1)\n",
    "        with open(a_count_arr_filename, 'wb') as a1:\n",
    "            pickle.dump(A_count_arr, a1)\n",
    "        with open(t_count_arr_filename, 'wb') as t1:\n",
    "            pickle.dump(T_count_arr, t1)\n",
    "    \n",
    "    return G_bit_arr, A_bit_arr, C_bit_arr, T_bit_arr, G_count_arr, A_count_arr, C_count_arr, T_count_arr"
   ]
  },
  {
   "cell_type": "code",
   "execution_count": 4,
   "metadata": {
    "collapsed": true
   },
   "outputs": [],
   "source": [
    "def rank_query(token, index):\n",
    "    if index == 0:\n",
    "        return 0\n",
    "    rank = 0\n",
    "    if(token == 'G'):\n",
    "        while (index - 1) % delta != 0:\n",
    "            index -= 1\n",
    "            if G_bit_arr[index]:\n",
    "                rank += 1\n",
    "        rank += G_count_arr[(index-1) / delta]\n",
    "        return rank\n",
    "    \n",
    "    elif(token == 'A'):\n",
    "        while (index - 1) % delta != 0:\n",
    "            index -= 1\n",
    "            if A_bit_arr[index]:\n",
    "                rank += 1\n",
    "        rank += A_count_arr[(index-1) / delta]\n",
    "        return rank\n",
    "    \n",
    "    elif(token == 'C'):\n",
    "        while (index - 1) % delta != 0:\n",
    "            index -= 1\n",
    "            if C_bit_arr[index]:\n",
    "                rank += 1\n",
    "        rank += C_count_arr[(index-1) / delta]\n",
    "        return rank\n",
    "                \n",
    "    elif(token == 'T'):\n",
    "        while (index - 1) % delta != 0:\n",
    "            index -= 1\n",
    "            if T_bit_arr[index]:\n",
    "                rank += 1\n",
    "        rank += T_count_arr[(index-1) / delta]\n",
    "        return rank\n",
    "                \n",
    "    else:\n",
    "        print(token)\n",
    "        print(\"Token mismatch!\")"
   ]
  },
  {
   "cell_type": "code",
   "execution_count": 5,
   "metadata": {
    "collapsed": true
   },
   "outputs": [],
   "source": [
    "def get_band_index(token, rank):\n",
    "    if token == 'A':\n",
    "        return band_start_index_a + rank\n",
    "    elif token == 'C':\n",
    "        return band_start_index_c + rank\n",
    "    elif token == 'G':\n",
    "        return band_start_index_g + rank\n",
    "    elif token == 'T':\n",
    "        return band_start_index_t + rank\n",
    "    else:\n",
    "        print(\"No match for token!!\")"
   ]
  },
  {
   "cell_type": "code",
   "execution_count": 6,
   "metadata": {
    "collapsed": true
   },
   "outputs": [],
   "source": [
    "red_exon_1_start_index = 149249757\n",
    "red_exon_1_end_index = 149249868\n",
    "red_exon_2_start_index = 149256127\n",
    "red_exon_2_end_index = 149256423\n",
    "red_exon_3_start_index = 149258412\n",
    "red_exon_3_end_index = 149258580\n",
    "red_exon_4_start_index = 149260048\n",
    "red_exon_4_end_index = 149260213\n",
    "red_exon_5_start_index = 149261768\n",
    "red_exon_5_end_index = 149262007\n",
    "red_exon_6_start_index = 149264290\n",
    "red_exon_6_end_index = 149264400\n",
    "\n",
    "green_exon_1_start_index = 149288166\n",
    "green_exon_1_end_index = 149288277\n",
    "green_exon_2_start_index = 149293258\n",
    "green_exon_2_end_index = 149293554\n",
    "green_exon_3_start_index = 149295542\n",
    "green_exon_3_end_index = 149295710\n",
    "green_exon_4_start_index = 149297178\n",
    "green_exon_4_end_index = 149297343\n",
    "green_exon_5_start_index = 149298898\n",
    "green_exon_5_end_index = 149299137\n",
    "green_exon_6_start_index = 149301420\n",
    "green_exon_6_end_index = 149301530\n",
    "\n",
    "def is_matching_red(index, length):\n",
    "    if index >= red_exon_1_start_index and index <= red_exon_1_end_index:\n",
    "        return True, 0\n",
    "    elif index >= red_exon_2_start_index and index <= red_exon_2_end_index:\n",
    "        return True, 1\n",
    "    elif index >= red_exon_3_start_index and index <= red_exon_3_end_index:\n",
    "        return True, 2\n",
    "    elif index >= red_exon_4_start_index and index <= red_exon_4_end_index:\n",
    "        return True, 3\n",
    "    elif index >= red_exon_5_start_index and index <= red_exon_5_end_index:\n",
    "        return True, 4\n",
    "    elif index >= red_exon_6_start_index and index <= red_exon_6_end_index:\n",
    "        return True, 5\n",
    "    else:\n",
    "        return False, -1\n",
    "    \n",
    "def is_matching_green(index, length):\n",
    "    if index >= green_exon_1_start_index and index <= green_exon_1_end_index:\n",
    "        return True, 0\n",
    "    elif index >= green_exon_2_start_index and index <= green_exon_2_end_index:\n",
    "        return True, 1\n",
    "    elif index >= green_exon_3_start_index and index <= green_exon_3_end_index:\n",
    "        return True, 2\n",
    "    elif index >= green_exon_4_start_index and index <= green_exon_4_end_index:\n",
    "        return True, 3\n",
    "    elif index >= green_exon_5_start_index and index <= green_exon_5_end_index:\n",
    "        return True, 4\n",
    "    elif index >= green_exon_6_start_index and index <= green_exon_6_end_index:\n",
    "        return True, 5\n",
    "    else:\n",
    "        return False, -1"
   ]
  },
  {
   "cell_type": "code",
   "execution_count": 7,
   "metadata": {},
   "outputs": [
    {
     "name": "stdout",
     "output_type": "stream",
     "text": [
      "1511006\n"
     ]
    }
   ],
   "source": [
    "bwt_data = np.loadtxt('../data/chrX_last_col.txt', dtype=str)\n",
    "# print(bwt_data)\n",
    "print(len(bwt_data))"
   ]
  },
  {
   "cell_type": "code",
   "execution_count": 8,
   "metadata": {},
   "outputs": [
    {
     "name": "stdout",
     "output_type": "stream",
     "text": [
      "151100561\n"
     ]
    }
   ],
   "source": [
    "reference_read = np.loadtxt(\"../data/chrX_map.txt\", dtype=str)\n",
    "print(len(reference_read))"
   ]
  },
  {
   "cell_type": "code",
   "execution_count": 9,
   "metadata": {},
   "outputs": [
    {
     "name": "stdout",
     "output_type": "stream",
     "text": [
      "151100560\n"
     ]
    }
   ],
   "source": [
    "ref_sequence = np.loadtxt(\"../data/chrX.fa\", dtype=str)\n",
    "# print(len(ref_sequence))\n",
    "merged_sequence = ''.join(ref_sequence[1:])\n",
    "print(len(merged_sequence))"
   ]
  },
  {
   "cell_type": "code",
   "execution_count": 10,
   "metadata": {},
   "outputs": [
    {
     "name": "stdout",
     "output_type": "stream",
     "text": [
      "151100561\n"
     ]
    }
   ],
   "source": [
    "bwt_full = ''.join(bwt_data)\n",
    "print(len(bwt_full))"
   ]
  },
  {
   "cell_type": "code",
   "execution_count": 11,
   "metadata": {
    "collapsed": true
   },
   "outputs": [],
   "source": [
    "# test_read = 'GAGGACAGCACCCAGTCCAGCATCTTCACCTACACCAACAGCAACTCCACCAGAGGTGAGCCAGCAGGCCCGTGGAGGCTGGGTGGCTGCACTGGGGGCCA'\n",
    "# print(len(test_read))\n",
    "# delta = 100"
   ]
  },
  {
   "cell_type": "code",
   "execution_count": 12,
   "metadata": {},
   "outputs": [
    {
     "name": "stdout",
     "output_type": "stream",
     "text": [
      "[45648952, 29813353, 45772424, 29865831, 1, 0, 0]\n",
      "{'A': 45648952, 'C': 29813353, '$': 1, 'G': 29865831, 'N': 0, 'U': 0, 'T': 45772424}\n",
      "(0, 45648951)\n",
      "(45648952, 75462304)\n",
      "(75462305, 105328135)\n",
      "(105328136, 151100559)\n",
      "151100561\n",
      "1511006\n",
      "No match\n"
     ]
    }
   ],
   "source": [
    "first_col_dict = generate_first_column(bwt_data)\n",
    "a_count = first_col_dict['A']\n",
    "g_count = first_col_dict['G']\n",
    "c_count = first_col_dict['C']\n",
    "t_count = first_col_dict['T']\n",
    "\n",
    "band_start_index_a = 0\n",
    "band_end_index_a = a_count - 1\n",
    "band_start_index_c = a_count\n",
    "band_end_index_c = a_count + c_count - 1\n",
    "band_start_index_g = a_count + c_count\n",
    "band_end_index_g = a_count + c_count + g_count - 1\n",
    "band_start_index_t = a_count + c_count + g_count\n",
    "band_end_index_t = a_count + c_count + g_count + t_count - 1\n",
    "\n",
    "print(band_start_index_a, band_end_index_a)\n",
    "print(band_start_index_c, band_end_index_c)\n",
    "print(band_start_index_g, band_end_index_g)\n",
    "print(band_start_index_t, band_end_index_t)\n",
    "\n",
    "# first_token = test_read[-1]\n",
    "# print(first_token)\n",
    "\n",
    "# if first_token == 'A':\n",
    "#     band_start_index = 0\n",
    "#     band_end_index = a_count - 1\n",
    "# elif first_token == 'C':\n",
    "#     band_start_index = a_count\n",
    "#     band_end_index = a_count + c_count - 1\n",
    "# elif first_token == 'G':\n",
    "#     band_start_index = a_count + c_count\n",
    "#     band_end_index = a_count + c_count + g_count - 1\n",
    "# elif first_token == 'T':\n",
    "#     band_start_index = a_count + c_count + g_count\n",
    "#     band_end_index = a_count + c_count + g_count + t_count - 1\n",
    "\n",
    "# print(band_start_index)\n",
    "# print(band_end_index)\n",
    "\n",
    "G_bit_arr, A_bit_arr, C_bit_arr, T_bit_arr, G_count_arr, A_count_arr, C_count_arr, T_count_arr = generate_binary_and_count_arrays(bwt_full, False)"
   ]
  },
  {
   "cell_type": "code",
   "execution_count": null,
   "metadata": {
    "collapsed": true
   },
   "outputs": [],
   "source": [
    "# for i in range(2, len(test_read)+1):\n",
    "#     token = test_read[-1*i]\n",
    "#     start_token_rank = rank_query(token, band_start_index)\n",
    "#     end_token_rank = rank_query(token, band_end_index)\n",
    "#     if start_token_rank == end_token_rank:\n",
    "#         break;\n",
    "#     band_start_index = get_band_index(token, start_token_rank)\n",
    "#     band_end_index = get_band_index(token, end_token_rank)\n",
    "# #     print(start_token_rank)\n",
    "# #     print(end_token_rank)\n",
    "\n",
    "# print(band_start_index)\n",
    "# print(band_end_index)"
   ]
  },
  {
   "cell_type": "code",
   "execution_count": null,
   "metadata": {
    "collapsed": true
   },
   "outputs": [],
   "source": [
    "# print(reference_read[band_end_index-2])\n",
    "# start_seq_index = reference_read[band_end_index-2]"
   ]
  },
  {
   "cell_type": "code",
   "execution_count": null,
   "metadata": {
    "collapsed": true
   },
   "outputs": [],
   "source": [
    "# read_from_seq = merged_sequence[int(start_seq_index):int(start_seq_index)+101]\n",
    "# print(merged_sequence[int(start_seq_index):int(start_seq_index)+101])"
   ]
  },
  {
   "cell_type": "code",
   "execution_count": null,
   "metadata": {
    "collapsed": true
   },
   "outputs": [],
   "source": [
    "# assert test_read == read_from_seq"
   ]
  },
  {
   "cell_type": "code",
   "execution_count": null,
   "metadata": {
    "collapsed": true
   },
   "outputs": [],
   "source": [
    "## DOnt go beyond this"
   ]
  },
  {
   "cell_type": "code",
   "execution_count": 13,
   "metadata": {
    "collapsed": true
   },
   "outputs": [],
   "source": [
    "red_exon_match_count = [0, 0, 0, 0, 0, 0]\n",
    "green_exon_match_count = [0, 0, 0, 0, 0, 0]"
   ]
  },
  {
   "cell_type": "code",
   "execution_count": 14,
   "metadata": {},
   "outputs": [
    {
     "name": "stdout",
     "output_type": "stream",
     "text": [
      "3066720\n",
      "101\n",
      "101\n",
      "13\n",
      "2453\n",
      "0\n"
     ]
    }
   ],
   "source": [
    "all_reads = np.loadtxt('../data/reads', dtype=str)\n",
    "print(len(all_reads))\n",
    "print(len(all_reads[0]))\n",
    "max_length_read = max(len(read) for read in all_reads)\n",
    "print(max_length_read)\n",
    "min_length_read = min(len(read) for read in all_reads)\n",
    "print(min_length_read)\n",
    "count_read_containing_N = len([read for read in all_reads if 'N' in read])\n",
    "print(count_read_containing_N)\n",
    "\n",
    "all_reads_removing_N = []\n",
    "for read in all_reads:\n",
    "    if 'N' in read:\n",
    "        new_read = read.replace('N', 'A')\n",
    "        all_reads_removing_N.append(new_read)\n",
    "    else:\n",
    "        all_reads_removing_N.append(read)\n",
    "\n",
    "new_count_read_containing_N = len([read for read in all_reads_removing_N if 'N' in read])\n",
    "print(new_count_read_containing_N)\n",
    "\n",
    "# with open('../processed_data/processed_reads.pkl', 'wb') as f:\n",
    "#     pickle.dump(all_reads_removing_N, f)\n",
    "    \n",
    "all_reads_reverse_compliment = []\n",
    "for read in all_reads_removing_N:\n",
    "    reverse_read = read[::-1]\n",
    "    temp_M = reverse_read.replace('G', 'M')\n",
    "    temp_G = temp_M.replace('C', 'G')\n",
    "    temp_C = temp_G.replace('M', 'C')\n",
    "    temp_N = temp_C.replace('A', 'N')\n",
    "    temp_T = temp_N.replace('T', 'A')\n",
    "    temp_A = temp_T.replace('N', 'T')\n",
    "    all_reads_reverse_compliment.append(temp_A)\n",
    "    \n",
    "# with open('../processed_data/processed_reverse_compliment_reads.pkl', 'wb') as f:\n",
    "#     pickle.dump(all_reads_reverse_compliment, f)"
   ]
  },
  {
   "cell_type": "code",
   "execution_count": 15,
   "metadata": {
    "collapsed": true
   },
   "outputs": [],
   "source": [
    "def get_match_indices(read):\n",
    "    first_token = read[-1]\n",
    "    if first_token == 'A':\n",
    "        band_start_index = 0\n",
    "        band_end_index = a_count - 1\n",
    "    elif first_token == 'C':\n",
    "        band_start_index = a_count\n",
    "        band_end_index = a_count + c_count - 1\n",
    "    elif first_token == 'G':\n",
    "        band_start_index = a_count + c_count\n",
    "        band_end_index = a_count + c_count + g_count - 1\n",
    "    elif first_token == 'T':\n",
    "        band_start_index = a_count + c_count + g_count\n",
    "        band_end_index = a_count + c_count + g_count + t_count - 1\n",
    "    \n",
    "    for i in range(2, len(read)+1):\n",
    "        token = read[-1*i]\n",
    "        start_token_rank = rank_query(token, band_start_index)\n",
    "        end_token_rank = rank_query(token, band_end_index)\n",
    "        if start_token_rank == end_token_rank:\n",
    "            return None, None;\n",
    "        band_start_index = get_band_index(token, start_token_rank)\n",
    "        band_end_index = get_band_index(token, end_token_rank)\n",
    "    return band_start_index, band_end_index"
   ]
  },
  {
   "cell_type": "code",
   "execution_count": 16,
   "metadata": {
    "collapsed": true
   },
   "outputs": [],
   "source": [
    "def count_exon_matches(start_index, end_index, read_length):\n",
    "    ref_seq_index_matches = []\n",
    "    for i in range(end_index - start_index):\n",
    "        ref_seq_index_matches.append(int(reference_read[start_index+i]))\n",
    "    red_exon_numbers = []\n",
    "    green_exon_numbers = []\n",
    "    for ref_seq_index in ref_seq_index_matches:\n",
    "        is_red_match, red_exon_number = is_matching_red(ref_seq_index, read_length)\n",
    "        is_green_match, green_exon_number = is_matching_green(ref_seq_index, read_length)\n",
    "        if is_red_match:\n",
    "            red_exon_numbers.append(red_exon_number)\n",
    "        if is_green_match:\n",
    "            green_exon_numbers.append(green_exon_number)\n",
    "            \n",
    "    if len(red_exon_numbers) > 0 and len(green_exon_numbers) > 0:\n",
    "        for exon_number in red_exon_numbers:\n",
    "            red_exon_match_count[exon_number] += 0.5\n",
    "        for exon_number in green_exon_numbers:\n",
    "            green_exon_match_count[exon_number] += 0.5\n",
    "    elif len(red_exon_numbers) > 0:\n",
    "        for exon_number in red_exon_numbers:\n",
    "            red_exon_match_count[exon_number] += 1\n",
    "    elif len(green_exon_numbers) > 0:\n",
    "        for exon_number in green_exon_numbers:\n",
    "            green_exon_match_count[exon_number] += 0.5\n",
    "    else:\n",
    "        pass"
   ]
  },
  {
   "cell_type": "code",
   "execution_count": 18,
   "metadata": {},
   "outputs": [],
   "source": [
    "delta = 100\n",
    "for read in all_reads_removing_N:\n",
    "    band_first_match_index, band_last_match_index = get_match_indices(read)\n",
    "    if band_first_match_index is not None and band_last_match_index is not None:\n",
    "#         print(band_first_match_index)\n",
    "#         print(band_last_match_index)\n",
    "        count_exon_matches(band_first_match_index, band_last_match_index, len(read))"
   ]
  },
  {
   "cell_type": "code",
   "execution_count": 19,
   "metadata": {},
   "outputs": [
    {
     "name": "stdout",
     "output_type": "stream",
     "text": [
      "[67.5, 56.5, 50.0, 105.5, 216.5, 179.0]\n",
      "[67.5, 92.5, 37.5, 61.5, 164.0, 179.0]\n"
     ]
    }
   ],
   "source": [
    "print(red_exon_match_count)\n",
    "print(green_exon_match_count)"
   ]
  },
  {
   "cell_type": "code",
   "execution_count": null,
   "metadata": {
    "collapsed": true
   },
   "outputs": [],
   "source": [
    "# for read in all_reads_reverse_compliment:\n",
    "#     band_first_match_index, band_last_match_index = get_match_indices(read)\n",
    "#     if band_first_match_index is not None and band_last_match_index is not None:\n",
    "#         count_exon_matches(band_first_match_index, band_last_match_index, len(read))"
   ]
  },
  {
   "cell_type": "code",
   "execution_count": null,
   "metadata": {
    "collapsed": true
   },
   "outputs": [],
   "source": [
    "# print(red_exon_match_count)\n",
    "# print(green_exon_match_count)"
   ]
  },
  {
   "cell_type": "code",
   "execution_count": 20,
   "metadata": {
    "collapsed": true
   },
   "outputs": [],
   "source": [
    "def get_matching_ref_indices(start_index, end_index):\n",
    "    ref_seq_index_matches = []\n",
    "    for i in range(end_index - start_index):\n",
    "        ref_seq_index_matches.append(int(reference_read[start_index+i]))\n",
    "    return ref_seq_index_matches"
   ]
  },
  {
   "cell_type": "code",
   "execution_count": 21,
   "metadata": {
    "collapsed": true
   },
   "outputs": [],
   "source": [
    "len_ref_seq = len(merged_sequence)\n",
    "def get_mismatch_count_ref_seq(index, read):\n",
    "    mismatch_count = 0\n",
    "    if len_ref_seq <= index + len(read):\n",
    "        print('Length mismatch')\n",
    "        return -1\n",
    "    for i in range(len(read)):\n",
    "        if(merged_sequence[index+i] != read[i]):\n",
    "            mismatch_count += 1\n",
    "    return mismatch_count"
   ]
  },
  {
   "cell_type": "code",
   "execution_count": null,
   "metadata": {},
   "outputs": [
    {
     "name": "stdout",
     "output_type": "stream",
     "text": [
      "Length mismatch\n",
      "Length mismatch\n",
      "Length mismatch\n",
      "Length mismatch\n",
      "Length mismatch\n",
      "Length mismatch\n",
      "Length mismatch\n",
      "Length mismatch\n",
      "Length mismatch\n",
      "Length mismatch\n",
      "Length mismatch\n",
      "Length mismatch\n",
      "Length mismatch\n",
      "Length mismatch\n",
      "Length mismatch\n"
     ]
    }
   ],
   "source": [
    "## Check for mismatches\n",
    "for read in all_reads_removing_N:\n",
    "    read_length = len(read)\n",
    "    first_part = read[0 : read_length/3]\n",
    "    second_part = read[read_length/3 : 2*read_length/3]\n",
    "    third_part = read[2*read_length/3 : read_length]\n",
    "    first_part_band_match_start_index, first_part_band_match_end_index = get_match_indices(first_part)\n",
    "    second_part_band_match_start_index, second_part_band_match_end_index = get_match_indices(second_part)\n",
    "    third_part_band_match_start_index, third_part_band_match_end_index = get_match_indices(third_part)\n",
    "#     print(first_part_band_match_start_index, first_part_band_match_end_index)\n",
    "#     print(second_part_band_match_start_index, second_part_band_match_end_index)\n",
    "#     print(third_part_band_match_start_index, third_part_band_match_end_index)\n",
    "    \n",
    "    first_ref_matches = []\n",
    "    second_ref_matches = []\n",
    "    third_ref_matches = []\n",
    "    \n",
    "    if first_part_band_match_start_index is not None and first_part_band_match_end_index is not None:\n",
    "        first_ref_matches = get_matching_ref_indices(first_part_band_match_start_index, first_part_band_match_end_index)\n",
    "    \n",
    "    if second_part_band_match_start_index is not None and second_part_band_match_end_index is not None:\n",
    "        second_ref_matches = get_matching_ref_indices(second_part_band_match_start_index, second_part_band_match_end_index)\n",
    "    \n",
    "    if third_part_band_match_start_index is not None and third_part_band_match_end_index is not None:\n",
    "        third_ref_matches = get_matching_ref_indices(third_part_band_match_start_index, third_part_band_match_end_index)\n",
    "#     print(first_ref_matches)\n",
    "#     print(second_ref_matches)\n",
    "#     print(third_ref_matches)\n",
    "    \n",
    "    len_first_part = len(first_part)\n",
    "    len_second_part = len(second_part)\n",
    "    len_third_part = len(third_part)\n",
    "#     print(len_first_part, len_second_part, len_third_part)\n",
    "    second_ref_matches = [val - len_first_part for val in second_ref_matches]\n",
    "#     print(second_ref_matches)\n",
    "    third_ref_matches = [val -len_first_part - len_second_part for val in third_ref_matches]\n",
    "#     print(third_ref_matches)\n",
    "    \n",
    "    common_matches = set(first_ref_matches) & set(second_ref_matches) & set(third_ref_matches)\n",
    "#     print(common_matches)\n",
    "    first_remaining_matches = set(first_ref_matches).difference(common_matches)\n",
    "    second_remaining_matches = set(second_ref_matches).difference(common_matches)\n",
    "    third_remaining_matches = set(third_ref_matches).difference(common_matches)\n",
    "#     print(first_remaining_matches, second_remaining_matches, third_remaining_matches)\n",
    "    all_remaining_matches = list(first_remaining_matches.union(second_remaining_matches.union(third_remaining_matches)))\n",
    "#     print(all_remaining_matches)\n",
    "    \n",
    "    if(len(all_remaining_matches) > 0):\n",
    "        red_exon_numbers = []\n",
    "        green_exon_numbers = []\n",
    "        for i in range(len(all_remaining_matches)):\n",
    "            mismatch_count = get_mismatch_count_ref_seq(all_remaining_matches[i], read)\n",
    "#             print(mismatch_count)\n",
    "            if mismatch_count > 0 and mismatch_count < 3:\n",
    "                is_red_match, red_exon_number = is_matching_red(all_remaining_matches[i], read_length)\n",
    "                is_green_match, green_exon_number = is_matching_green(all_remaining_matches[i], read_length)\n",
    "                if is_red_match:\n",
    "                    red_exon_numbers.append(red_exon_number)\n",
    "                if is_green_match:\n",
    "                    green_exon_numbers.append(green_exon_number)\n",
    "        \n",
    "        if len(red_exon_numbers) > 0 and len(green_exon_numbers) > 0:\n",
    "            for exon_number in red_exon_numbers:\n",
    "                red_exon_match_count[exon_number] += 0.5\n",
    "            for exon_number in green_exon_numbers:\n",
    "                green_exon_match_count[exon_number] += 0.5\n",
    "        elif len(red_exon_numbers) > 0:\n",
    "            for exon_number in red_exon_numbers:\n",
    "                red_exon_match_count[exon_number] += 1\n",
    "        elif len(green_exon_numbers) > 0:\n",
    "            for exon_number in green_exon_numbers:\n",
    "                green_exon_match_count[exon_number] += 0.5\n",
    "        else:\n",
    "            pass"
   ]
  },
  {
   "cell_type": "code",
   "execution_count": null,
   "metadata": {
    "collapsed": true
   },
   "outputs": [],
   "source": [
    "print(red_exon_match_count)\n",
    "print(green_exon_match_count)\n",
    "# print(read)\n",
    "# print i\n",
    "# print(len(merged_sequence))\n",
    "# print(all_remaining_matches[i])\n",
    "# print(len(read))"
   ]
  },
  {
   "cell_type": "code",
   "execution_count": null,
   "metadata": {
    "collapsed": true
   },
   "outputs": [],
   "source": [
    "# ## Check for mismatches\n",
    "# for read in all_reads_reverse_compliment:\n",
    "#     read_length = len(read)\n",
    "#     first_part = read[0 : read_length/3]\n",
    "#     second_part = read[read_length/3 : 2*read_length/3]\n",
    "#     third_part = read[2*read_length/3 : read_length]\n",
    "#     first_part_band_match_start_index, first_part_band_match_end_index = get_match_indices(first_part)\n",
    "#     second_part_band_match_start_index, second_part_band_match_end_index = get_match_indices(second_part)\n",
    "#     third_part_band_match_start_index, third_part_band_match_end_index = get_match_indices(third_part)\n",
    "# #     print(first_part_band_match_start_index, first_part_band_match_end_index)\n",
    "# #     print(second_part_band_match_start_index, second_part_band_match_end_index)\n",
    "# #     print(third_part_band_match_start_index, third_part_band_match_end_index)\n",
    "    \n",
    "#     first_ref_matches = []\n",
    "#     second_ref_matches = []\n",
    "#     third_ref_matches = []\n",
    "    \n",
    "#     if first_part_band_match_start_index is not None and first_part_band_match_end_index is not None:\n",
    "#         first_ref_matches = get_matching_ref_indices(first_part_band_match_start_index, first_part_band_match_end_index)\n",
    "    \n",
    "#     if second_part_band_match_start_index is not None and second_part_band_match_end_index is not None:\n",
    "#         second_ref_matches = get_matching_ref_indices(second_part_band_match_start_index, second_part_band_match_end_index)\n",
    "    \n",
    "#     if third_part_band_match_start_index is not None and third_part_band_match_end_index is not None:\n",
    "#         third_ref_matches = get_matching_ref_indices(third_part_band_match_start_index, third_part_band_match_end_index)\n",
    "# #     print(first_ref_matches)\n",
    "# #     print(second_ref_matches)\n",
    "# #     print(third_ref_matches)\n",
    "    \n",
    "#     len_first_part = len(first_part)\n",
    "#     len_second_part = len(second_part)\n",
    "#     len_third_part = len(third_part)\n",
    "# #     print(len_first_part, len_second_part, len_third_part)\n",
    "#     second_ref_matches = [val - len_first_part for val in second_ref_matches]\n",
    "# #     print(second_ref_matches)\n",
    "#     third_ref_matches = [val -len_first_part - len_second_part for val in third_ref_matches]\n",
    "# #     print(third_ref_matches)\n",
    "    \n",
    "#     common_matches = set(first_ref_matches) & set(second_ref_matches) & set(third_ref_matches)\n",
    "# #     print(common_matches)\n",
    "#     first_remaining_matches = set(first_ref_matches).difference(common_matches)\n",
    "#     second_remaining_matches = set(second_ref_matches).difference(common_matches)\n",
    "#     third_remaining_matches = set(third_ref_matches).difference(common_matches)\n",
    "# #     print(first_remaining_matches, second_remaining_matches, third_remaining_matches)\n",
    "#     all_remaining_matches = list(first_remaining_matches.union(second_remaining_matches.union(third_remaining_matches)))\n",
    "# #     print(all_remaining_matches)\n",
    "    \n",
    "#     if(len(all_remaining_matches) > 0):\n",
    "#         for i in range(len(all_remaining_matches)):\n",
    "#             mismatch_count = get_mismatch_count_ref_seq(all_remaining_matches[i], read)\n",
    "# #             print(mismatch_count)\n",
    "#             if mismatch_count > 0 and mismatch_count < 3:\n",
    "#                 is_red_match, red_exon_number = is_matching_red(all_remaining_matches[i], read_length)\n",
    "#                 is_green_match, green_exon_number = is_matching_green(all_remaining_matches[i], read_length)\n",
    "#                 if is_red_match and is_green_match:\n",
    "#                     red_exon_match_count[red_exon_number] += 0.5\n",
    "#                     green_exon_match_count[green_exon_number] += 0.5\n",
    "#                 elif is_red_match:\n",
    "#                     red_exon_match_count[red_exon_number] += 1\n",
    "#                 elif is_green_match:\n",
    "#                     green_exon_match_count[green_exon_number] += 1\n",
    "#                 else:\n",
    "#                     assert True == True"
   ]
  },
  {
   "cell_type": "code",
   "execution_count": null,
   "metadata": {
    "collapsed": true
   },
   "outputs": [],
   "source": [
    "# print(red_exon_match_count)\n",
    "# print(green_exon_match_count)"
   ]
  }
 ],
 "metadata": {
  "kernelspec": {
   "display_name": "Python 2",
   "language": "python",
   "name": "python2"
  },
  "language_info": {
   "codemirror_mode": {
    "name": "ipython",
    "version": 2
   },
   "file_extension": ".py",
   "mimetype": "text/x-python",
   "name": "python",
   "nbconvert_exporter": "python",
   "pygments_lexer": "ipython2",
   "version": "2.7.13"
  }
 },
 "nbformat": 4,
 "nbformat_minor": 2
}
