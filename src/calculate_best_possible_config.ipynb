{
 "cells": [
  {
   "cell_type": "code",
   "execution_count": 21,
   "metadata": {
    "collapsed": true
   },
   "outputs": [],
   "source": [
    "import numpy as np\n",
    "import pickle\n",
    "import operator as op\n",
    "import math"
   ]
  },
  {
   "cell_type": "code",
   "execution_count": 14,
   "metadata": {
    "collapsed": true
   },
   "outputs": [],
   "source": [
    "def ncr(n, r):\n",
    "    r = min(r, n-r)\n",
    "    numer = reduce(op.mul, xrange(n, n-r, -1), 1)\n",
    "    denom = reduce(op.mul, xrange(1, r+1), 1)\n",
    "    return numer//denom"
   ]
  },
  {
   "cell_type": "code",
   "execution_count": 15,
   "metadata": {},
   "outputs": [
    {
     "name": "stdout",
     "output_type": "stream",
     "text": [
      "[270, 246, 142, 251, 603, 716]\n"
     ]
    }
   ],
   "source": [
    "red_exon_count = [135, 61, 67, 128, 275, 358]\n",
    "green_exon_count = [135, 185, 75, 123, 328, 358]\n",
    "total_count = []\n",
    "assert len(red_exon_count) == len(green_exon_count)\n",
    "for i in range(len(red_exon_count)):\n",
    "    count = red_exon_count[i] + green_exon_count[i]\n",
    "    total_count.append(count)\n",
    "print(total_count)"
   ]
  },
  {
   "cell_type": "code",
   "execution_count": 23,
   "metadata": {},
   "outputs": [],
   "source": [
    "config_1_red = [0.33, 0.33, 0.33, 0.33]\n",
    "config_1_green = [0.66, 0.66, 0.66, 0.66]\n",
    "\n",
    "config_2_red = [0.5, 0.5, 0, 0]\n",
    "config_2_green = [0.5, 0.5, 1.0, 1.0]\n",
    "\n",
    "config_3_red = [0.25, 0.25, 0.5, 0.5]\n",
    "config_3_green = [0.75, 0.75, 0.5, 0.5]\n",
    "\n",
    "config_4_red = [0.25, 0.25, 0.25, 0.5]\n",
    "config_4_green = [0.75, 0.75, 0.75, 0.5]"
   ]
  },
  {
   "cell_type": "code",
   "execution_count": 32,
   "metadata": {},
   "outputs": [
    {
     "name": "stdout",
     "output_type": "stream",
     "text": [
      "-70.531645087\n",
      "-30.5910200683\n",
      "-69.4416508827\n",
      "2.33612318247e-31\n",
      "5.18189714597e-14\n",
      "6.94823034229e-31\n"
     ]
    }
   ],
   "source": [
    "probabilities = []\n",
    "prob_1 = 0\n",
    "for i in range(len(config_1_red)):\n",
    "    prob_1 += red_exon_count[i+1]*math.log(config_1_red[i]) + green_exon_count[i+1]*math.log(config_1_green[i]) + math.log(ncr(total_count[i+1], red_exon_count[i+1]))\n",
    "\n",
    "prob_3 = 0\n",
    "for i in range(len(config_3_red)):\n",
    "    prob_3 += red_exon_count[i+1]*math.log(config_3_red[i]) + green_exon_count[i+1]*math.log(config_3_green[i]) + math.log(ncr(total_count[i+1], red_exon_count[i+1]))\n",
    "\n",
    "prob_4 = 0\n",
    "for i in range(len(config_4_red)):\n",
    "    prob_4 += red_exon_count[i+1]*math.log(config_4_red[i]) + green_exon_count[i+1]*math.log(config_4_green[i]) + math.log(ncr(total_count[i+1], red_exon_count[i+1]))\n",
    "\n",
    "\n",
    "print(prob_1)\n",
    "print(prob_3)\n",
    "print(prob_4)\n",
    "\n",
    "print(math.exp(prob_1))\n",
    "print(math.exp(prob_3))\n",
    "print(math.exp(prob_4))"
   ]
  },
  {
   "cell_type": "code",
   "execution_count": 29,
   "metadata": {},
   "outputs": [
    {
     "name": "stdout",
     "output_type": "stream",
     "text": [
      "919378990930037765910257475\n"
     ]
    }
   ],
   "source": [
    "print(ncr(105, 32))"
   ]
  },
  {
   "cell_type": "code",
   "execution_count": null,
   "metadata": {
    "collapsed": true
   },
   "outputs": [],
   "source": []
  }
 ],
 "metadata": {
  "kernelspec": {
   "display_name": "Python 2",
   "language": "python",
   "name": "python2"
  },
  "language_info": {
   "codemirror_mode": {
    "name": "ipython",
    "version": 2
   },
   "file_extension": ".py",
   "mimetype": "text/x-python",
   "name": "python",
   "nbconvert_exporter": "python",
   "pygments_lexer": "ipython2",
   "version": "2.7.13"
  }
 },
 "nbformat": 4,
 "nbformat_minor": 2
}
