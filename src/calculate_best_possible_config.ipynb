{
 "cells": [
  {
   "cell_type": "code",
   "execution_count": 39,
   "metadata": {
    "collapsed": true
   },
   "outputs": [],
   "source": [
    "import numpy as np\n",
    "import pickle\n",
    "import operator as op\n",
    "import math"
   ]
  },
  {
   "cell_type": "code",
   "execution_count": 40,
   "metadata": {
    "collapsed": true
   },
   "outputs": [],
   "source": [
    "def ncr(n, r):\n",
    "    r = min(r, n-r)\n",
    "    numer = reduce(op.mul, xrange(n, n-r, -1), 1)\n",
    "    denom = reduce(op.mul, xrange(1, r+1), 1)\n",
    "    return numer//denom"
   ]
  },
  {
   "cell_type": "code",
   "execution_count": 41,
   "metadata": {},
   "outputs": [],
   "source": [
    "red_exon_count = [97.0, 237.0, 107.5, 167.5, 303.5, 235.0]\n",
    "green_exon_count = [97.0, 156.5, 99.5, 87.5, 217.5, 235.0]\n",
    "red_exon_count = [int(count) for count in red_exon_count]\n",
    "green_exon_count = [int(count) for count in green_exon_count]\n",
    "total_count = []\n",
    "assert len(red_exon_count) == len(green_exon_count)\n",
    "for i in range(len(red_exon_count)):\n",
    "    count = red_exon_count[i] + green_exon_count[i]\n",
    "    total_count.append(count)\n",
    "# print(total_count)"
   ]
  },
  {
   "cell_type": "code",
   "execution_count": 42,
   "metadata": {},
   "outputs": [],
   "source": [
    "config_1_red = [0.33, 0.33, 0.33, 0.33]\n",
    "config_1_green = [0.66, 0.66, 0.66, 0.66]\n",
    "\n",
    "config_2_red = [0.5, 0.5, 0, 0]\n",
    "config_2_green = [0.5, 0.5, 1.0, 1.0]\n",
    "\n",
    "config_3_red = [0.25, 0.25, 0.5, 0.5]\n",
    "config_3_green = [0.75, 0.75, 0.5, 0.5]\n",
    "\n",
    "config_4_red = [0.25, 0.25, 0.25, 0.5]\n",
    "config_4_green = [0.75, 0.75, 0.75, 0.5]"
   ]
  },
  {
   "cell_type": "code",
   "execution_count": 51,
   "metadata": {},
   "outputs": [
    {
     "name": "stdout",
     "output_type": "stream",
     "text": [
      "Log probability for config-1 :: -223.920580793\n",
      "Log probability for config-3 :: -175.936177711\n",
      "Log probability for config-4 :: -256.416292459\n",
      "\n",
      "Probability for config-1 :: 5.65623411931e-98\n",
      "Probability for config-3 :: 3.90740882329e-77\n",
      "Probability for config-4 :: 4.36334059701e-112\n"
     ]
    }
   ],
   "source": [
    "probabilities = []\n",
    "prob_1 = 0\n",
    "for i in range(len(config_1_red)):\n",
    "    prob_1 += red_exon_count[i+1]*math.log(config_1_red[i]) + green_exon_count[i+1]*math.log(config_1_green[i]) + math.log(ncr(total_count[i+1], red_exon_count[i+1]))\n",
    "\n",
    "prob_3 = 0\n",
    "for i in range(len(config_3_red)):\n",
    "    prob_3 += red_exon_count[i+1]*math.log(config_3_red[i]) + green_exon_count[i+1]*math.log(config_3_green[i]) + math.log(ncr(total_count[i+1], red_exon_count[i+1]))\n",
    "\n",
    "prob_4 = 0\n",
    "for i in range(len(config_4_red)):\n",
    "    prob_4 += red_exon_count[i+1]*math.log(config_4_red[i]) + green_exon_count[i+1]*math.log(config_4_green[i]) + math.log(ncr(total_count[i+1], red_exon_count[i+1]))\n",
    "\n",
    "print('Log probability for config-1 :: ' + str(prob_1))\n",
    "print('Log probability for config-3 :: ' + str(prob_3))\n",
    "print('Log probability for config-4 :: ' + str(prob_4))\n",
    "\n",
    "print('')\n",
    "print('Probability for config-1 :: ' + str(math.exp(prob_1)))\n",
    "print('Probability for config-3 :: ' + str(math.exp(prob_3)))\n",
    "print('Probability for config-4 :: ' + str(math.exp(prob_4)))"
   ]
  }
 ],
 "metadata": {
  "kernelspec": {
   "display_name": "Python 2",
   "language": "python",
   "name": "python2"
  },
  "language_info": {
   "codemirror_mode": {
    "name": "ipython",
    "version": 2
   },
   "file_extension": ".py",
   "mimetype": "text/x-python",
   "name": "python",
   "nbconvert_exporter": "python",
   "pygments_lexer": "ipython2",
   "version": "2.7.13"
  }
 },
 "nbformat": 4,
 "nbformat_minor": 2
}
